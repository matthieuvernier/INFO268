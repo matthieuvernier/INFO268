{
 "cells": [
  {
   "cell_type": "markdown",
   "metadata": {},
   "source": [
    "<h1 align=\"center\"> Trabajo práctico 4 - Gestión y visualización de datos con Pandas y MatplotLib </h1>"
   ]
  },
  {
   "cell_type": "markdown",
   "metadata": {},
   "source": [
    "<i>¿Cuál versión de Python estoy utilizando?</i>"
   ]
  },
  {
   "cell_type": "code",
   "execution_count": null,
   "metadata": {},
   "outputs": [],
   "source": [
    "!python -V"
   ]
  },
  {
   "cell_type": "markdown",
   "metadata": {
    "collapsed": true
   },
   "source": [
    "<div style=\"border: 2px solid #D24747; background-color:#F8B4B4\">\n",
    "<h2>Objetivos de la actividad</h2>\n",
    "<ul>\n",
    "<li>Utilizar las librerias Pandas y MatplotLib para manipular y visualizar conjuntos de datos</li>\n",
    "<li>Introducir algunos conceptos de Ciencia de los Datos...\n",
    "</ul>"
   ]
  },
  {
   "cell_type": "markdown",
   "metadata": {},
   "source": [
    "El Trabajo Práctico siguiente es inspirado del <a href=\"https://github.com/jvns/pandas-cookbook\">Pandas Cookbook</a> desarrollado por Julia Evans (2015)."
   ]
  },
  {
   "cell_type": "markdown",
   "metadata": {},
   "source": [
    "<h2>0. Unas palabras sobre las herramientas de Python para la Ciencia de los Datos...</h2>\n",
    "\n",
    "<img src=\"python-packages.png\"></img>\n",
    "\n",
    "<p>Cada toolkit de Python tiene sus propios objetivos:</p>\n",
    "<ul>\n",
    "     <li><b>Numpy</b> agrega funcionalidades en Python para soportar arreglos y matrices de gran tamaño y funciones matemáticas para manipularlas.</li>\n",
    "     <li><b>SciPy</b> es una colección de algoritmos matemáticos y funciones programadas con NumPy. Agrega funciones y clases de alto nivel para facilitar la manipulación y visualización de datos.</li>\n",
    "      <li><b>Pandas</b> ofrece estructuras de datos y operaciones para manipular y analizar matrices de datos numéricos y series de tiempo.</li>\n",
    "    <li><b>Scikit-learn</b> es una librería Python para el Machine Learning, contiene una implementación de los principales algoritmos estandares para el aprendizaje supervisado y no supervisado.</li>\n",
    "</ul>"
   ]
  },
  {
   "cell_type": "markdown",
   "metadata": {},
   "source": [
    "<h2>1. Conceptos básicos: leer un DataFrame y visualizar</h2>"
   ]
  },
  {
   "cell_type": "code",
   "execution_count": null,
   "metadata": {
    "collapsed": true
   },
   "outputs": [],
   "source": [
    "# Cargar las librerías\n",
    "import pandas as pd\n",
    "import matplotlib.pyplot as plt"
   ]
  },
  {
   "cell_type": "markdown",
   "metadata": {},
   "source": [
    "<p>El primer dataset que queremos explorar consiste en un archivo CSV donde se encuentra información sobre cómo la gente utiliza las pistas para bicicletas de la ciudad de Montreal.</p>\n",
    "<ul><li>La primera etapa consiste en cargar los datos en un objeto <i>DataFrame</i>. Un DataFrame es una de las estructuras de datos provistas por Pandas para representar los datos, consiste en una matriz en dos dimensiones (ver <a href=\"https://pandas.pydata.org/pandas-docs/stable/dsintro.html\">más detalles</a>) donde cada fila es un dato y cada columna una característica sobre los datos.</li></ul>"
   ]
  },
  {
   "cell_type": "code",
   "execution_count": null,
   "metadata": {},
   "outputs": [],
   "source": [
    "#Cargar los datos en un DataFrame \"df\"\n",
    "df = pd.read_csv('bike2016.csv', sep=\",\")\n",
    "#Ver solamente las 3 primeras filas\n",
    "df[:3]"
   ]
  },
  {
   "cell_type": "markdown",
   "metadata": {},
   "source": [
    "<b>Pregunta: A qué corresponden los atributos y los valores?</b>"
   ]
  },
  {
   "cell_type": "code",
   "execution_count": null,
   "metadata": {},
   "outputs": [],
   "source": [
    "df = pd.read_csv('bike2016.csv', sep=\",\",parse_dates=['Date'],dayfirst=True, index_col=\"Date\", encoding=\"latin1\")\n",
    "df[:3]"
   ]
  },
  {
   "cell_type": "markdown",
   "metadata": {},
   "source": [
    "<b>Pregunta: \n",
    "<ul>\n",
    "<li>¿De qué sirven los atributos \"sep\", \"parse_dates\", \"dayfirst\" y \"index_col\"?</li>\n",
    "<li>Modifique el valor del parametro 'encoding' para evitar problemas con los caracteres</li></b>"
   ]
  },
  {
   "cell_type": "markdown",
   "metadata": {},
   "source": [
    "<ul>\n",
    "<li>Seleccionar una columna particular:</li>\n",
    "</ul>"
   ]
  },
  {
   "cell_type": "code",
   "execution_count": null,
   "metadata": {},
   "outputs": [],
   "source": [
    "df_Berri1 = df['Berri1']\n",
    "df_Berri1[:4]"
   ]
  },
  {
   "cell_type": "markdown",
   "metadata": {},
   "source": [
    "<ul>\n",
    "<li>Dibujar un gráfico simple con los valores de una columna:</li>\n",
    "</ul>"
   ]
  },
  {
   "cell_type": "code",
   "execution_count": null,
   "metadata": {},
   "outputs": [],
   "source": [
    "df['Berri1'].plot()\n",
    "plt.show()"
   ]
  },
  {
   "cell_type": "code",
   "execution_count": null,
   "metadata": {},
   "outputs": [],
   "source": [
    "#Modificar el tamaño de la figura\n",
    "plt.rcParams['figure.figsize'] = (15, 5)\n",
    "\n",
    "df['Berri1'].plot()\n",
    "plt.show()"
   ]
  },
  {
   "cell_type": "markdown",
   "metadata": {},
   "source": [
    "<ul>\n",
    "<li>Crear un gráfico para visualizar los datos de todos los lugares</li>\n",
    "</ul>"
   ]
  },
  {
   "cell_type": "code",
   "execution_count": null,
   "metadata": {},
   "outputs": [],
   "source": [
    "..."
   ]
  },
  {
   "cell_type": "markdown",
   "metadata": {},
   "source": [
    "<b>Pregunta: ¿En SQL, cuáles serían las consultas equivalentes a las celdas siguientes?</b>"
   ]
  },
  {
   "cell_type": "code",
   "execution_count": null,
   "metadata": {},
   "outputs": [],
   "source": [
    "df[:5]"
   ]
  },
  {
   "cell_type": "code",
   "execution_count": null,
   "metadata": {},
   "outputs": [],
   "source": [
    "df[:3]['Boyer']"
   ]
  },
  {
   "cell_type": "code",
   "execution_count": null,
   "metadata": {},
   "outputs": [],
   "source": [
    "df[['Boyer','Maisonneuve_2']][:4]"
   ]
  },
  {
   "cell_type": "markdown",
   "metadata": {},
   "source": [
    "<h2>2. Una operación muy útil en Data Science: \"Group By\" y \"Aggregate\"</h2>"
   ]
  },
  {
   "cell_type": "markdown",
   "metadata": {},
   "source": [
    "<ul>\n",
    "<li>En el ejercicio siguiente, vamos a responder a la pregunta siguiente: ¿Qué día los habitantes de Montreal pasan lo más por la calle 'Berri'?\n",
    "</ul>"
   ]
  },
  {
   "cell_type": "code",
   "execution_count": null,
   "metadata": {},
   "outputs": [],
   "source": [
    "df['Berri1'].plot()\n",
    "plt.show()"
   ]
  },
  {
   "cell_type": "markdown",
   "metadata": {},
   "source": [
    "Es díficil responder a la pregunta con este gráfico... Sería ideal poder hacer un 'group by' según el día de la semana. "
   ]
  },
  {
   "cell_type": "code",
   "execution_count": null,
   "metadata": {},
   "outputs": [],
   "source": [
    "#Creación de un dataframe con los datos de la calle 'Berri'\n",
    "df_berri = df[['Berri1']].copy()\n",
    "df_berri[:5]"
   ]
  },
  {
   "cell_type": "markdown",
   "metadata": {},
   "source": [
    "<ul><li>df_berri es una variable de tipo DataFrame, tiene una columna particular que sirve como Index. ¿Cuál es el index de df_berri? ¿Cuál es el tipo de datos: String o Date?</li></ul>"
   ]
  },
  {
   "cell_type": "code",
   "execution_count": null,
   "metadata": {},
   "outputs": [],
   "source": [
    "df_berri.index"
   ]
  },
  {
   "cell_type": "markdown",
   "metadata": {},
   "source": [
    "<b>Pregunta: ¿Qué datos devuelven las variables 'day' y 'weekday' del DatetimeIndex?</b>"
   ]
  },
  {
   "cell_type": "code",
   "execution_count": null,
   "metadata": {},
   "outputs": [],
   "source": [
    "df_berri.index.day"
   ]
  },
  {
   "cell_type": "code",
   "execution_count": null,
   "metadata": {},
   "outputs": [],
   "source": [
    "df_berri.index.weekday"
   ]
  },
  {
   "cell_type": "markdown",
   "metadata": {},
   "source": [
    "<ul><li>0 corresponde a 'Lunes', 1 a 'Martes', etc. Ahora podemos agregar esta información en nuestra DataFrame:</li></ul>"
   ]
  },
  {
   "cell_type": "code",
   "execution_count": null,
   "metadata": {},
   "outputs": [],
   "source": [
    "df_berri.loc[:,'weekday'] = df_berri.index.weekday\n",
    "df_berri[:5]"
   ]
  },
  {
   "cell_type": "markdown",
   "metadata": {},
   "source": [
    "<b>Pregunta: ¿De qué sirve la función <i>loc()</i>?"
   ]
  },
  {
   "cell_type": "markdown",
   "metadata": {},
   "source": [
    "<ul>\n",
    "<li>En Pandas, las DataFrame tienen una función <i>groupby()</i> similar a SQL. Calculemos la suma de bicicletas que pasaron por la calle Berri1 agrupadas según el día de la semana:</li></ul>"
   ]
  },
  {
   "cell_type": "code",
   "execution_count": null,
   "metadata": {},
   "outputs": [],
   "source": [
    "weekday_counts = df_berri.groupby('weekday').aggregate(sum)\n",
    "weekday_counts"
   ]
  },
  {
   "cell_type": "markdown",
   "metadata": {},
   "source": [
    "<ul><li>Sería mejor reemplazar los valors '0', '1', '2', etc. por el nombre del día. Reemplazemos los valores de la columna index:</li></ul>"
   ]
  },
  {
   "cell_type": "code",
   "execution_count": null,
   "metadata": {},
   "outputs": [],
   "source": [
    "weekday_counts.index = ['Monday', 'Tuesday', 'Wednesday', 'Thursday', 'Friday', 'Saturday', 'Sunday']\n",
    "weekday_counts"
   ]
  },
  {
   "cell_type": "code",
   "execution_count": null,
   "metadata": {},
   "outputs": [],
   "source": [
    "#Visualizar en un histograma\n",
    "weekday_counts.plot(kind='bar')\n",
    "plt.show()"
   ]
  },
  {
   "cell_type": "markdown",
   "metadata": {},
   "source": [
    "<b>Pregunta: ¿Cuál es la respuesta a nuestra pregunta inicial?</b>"
   ]
  },
  {
   "cell_type": "markdown",
   "metadata": {},
   "source": [
    "<h2>3. Gestionar los datos de tipo String y Serie de Tiempo desde Pandas</h2>"
   ]
  },
  {
   "cell_type": "markdown",
   "metadata": {},
   "source": [
    "Vimos anteriormente que Pandas ofrece funcionalidades interesantes para manipular fechas, es also interesante para manipular cadenas de caracteres.\n",
    "\n",
    "<ul>\n",
    "<li>En esta sección, jugaremos con el dataset 'weather_2012.csv' que contiene datos meteorologicos de Montreal, y trataremos responder a la pregunta científica siguiente: <i>¿Qué mes hay más nieve en Montreal?</i></li>\n",
    "</ul>"
   ]
  },
  {
   "cell_type": "code",
   "execution_count": null,
   "metadata": {},
   "outputs": [],
   "source": [
    "weather_2012 = pd.read_csv('weather_2012.csv', parse_dates=True, index_col='Date/Time')\n",
    "weather_2012[:5]"
   ]
  },
  {
   "cell_type": "markdown",
   "metadata": {},
   "source": [
    "La columna \"Weather\" da precisiones sobre las condiciones climáticas en Montreal con algunas palabras claves. Cuando hay nieve, este campo contiene la palabra 'Snow'. Pandas tiene funcionalidades para manipular columnas contieniendo texto (ver <a href=\"http://pandas.pydata.org/pandas-docs/stable/basics.html#vectorized-string-methods\">Documentación</a>), por ejemplo:"
   ]
  },
  {
   "cell_type": "code",
   "execution_count": null,
   "metadata": {},
   "outputs": [],
   "source": [
    "weather_column=weather_2012['Weather']\n",
    "is_snowing = weather_column.str.contains('Snow')\n",
    "is_snowing[:5]"
   ]
  },
  {
   "cell_type": "code",
   "execution_count": null,
   "metadata": {},
   "outputs": [],
   "source": [
    "is_snowing.plot()\n",
    "plt.show()"
   ]
  },
  {
   "cell_type": "markdown",
   "metadata": {},
   "source": [
    "<ul>\n",
    "<li>Pandas tiene una función <i>resample()</i> muy práctica que permite discretizar series de tiempo según varias granularidad. Ver <a href=\"https://pandas.pydata.org/pandas-docs/stable/generated/pandas.DataFrame.resample.html\">documentación</a> y <a href=\"http://benalexkeen.com/resampling-time-series-data-with-pandas/\">ejemplos</a>.Esta función es un poco similar a un Group By pero con datos temporales.</li>\n",
    "<li>En nuestro ejemplo, vamos a organizar los datos de temperatura por mes ('M') tomando la mediana cómo función de agregación.</li>\n",
    "</ul>"
   ]
  },
  {
   "cell_type": "code",
   "execution_count": null,
   "metadata": {},
   "outputs": [],
   "source": [
    "import numpy as np\n",
    "\n",
    "weather_2012['Temp (C)'].resample('M').apply(np.median).plot(kind='bar')"
   ]
  },
  {
   "cell_type": "markdown",
   "metadata": {},
   "source": [
    "<ul>\n",
    "<li>Para responder a nuestra pregunta de investigación inicial, podemos hacer el mismo \"resample\" con los datos que indican si hay nieve o no. Pero necesitamos convertir el tipo de datos antes:</li>\n",
    "</ul>"
   ]
  },
  {
   "cell_type": "code",
   "execution_count": null,
   "metadata": {},
   "outputs": [],
   "source": [
    "#Convertir los valores de la DataFrame is_snowing (booleano --> float)\n",
    "is_snowing.astype(float)[:10]"
   ]
  },
  {
   "cell_type": "code",
   "execution_count": null,
   "metadata": {},
   "outputs": [],
   "source": [
    "is_snowing.astype(float).resample('M').apply(np.mean).plot(kind='bar')"
   ]
  },
  {
   "cell_type": "markdown",
   "metadata": {},
   "source": [
    "<b>Pregunta: ¿Cuál es la respuesta a nuestra pregunta de investigación?</b>"
   ]
  },
  {
   "cell_type": "markdown",
   "metadata": {},
   "source": [
    "<ul>\n",
    "<li>Finalmente, podemos crear un nuevo dataset con los datos \"Temperature\" y \"Snow\" que hemos reorganizados, y visualizarlos en un mismo gráfico.\n",
    "</ul>"
   ]
  },
  {
   "cell_type": "code",
   "execution_count": null,
   "metadata": {},
   "outputs": [],
   "source": [
    "temperature = weather_2012['Temp (C)'].resample('M').apply(np.median)\n",
    "is_snowing = weather_2012['Weather'].str.contains('Snow')\n",
    "snowiness = is_snowing.astype(float).resample('M').apply(np.mean)\n",
    "\n",
    "# Name the columns\n",
    "temperature.name = \"Temperature\"\n",
    "snowiness.name = \"Snowiness\""
   ]
  },
  {
   "cell_type": "markdown",
   "metadata": {},
   "source": [
    "<ul><li>Utilizamos la función <i>concat()</i> para agrupar las dos dataframes anteriores, precisando el nombre de cada columna:</li></ul>"
   ]
  },
  {
   "cell_type": "code",
   "execution_count": null,
   "metadata": {},
   "outputs": [],
   "source": [
    "new_df_stats = pd.concat([temperature, snowiness], axis=1)\n",
    "new_df_stats"
   ]
  },
  {
   "cell_type": "code",
   "execution_count": null,
   "metadata": {},
   "outputs": [],
   "source": [
    "new_df_stats.plot(kind='bar', subplots=True, figsize=(15, 10))"
   ]
  },
  {
   "cell_type": "markdown",
   "metadata": {},
   "source": [
    "<h2>4. Data Science: Caso de estudio</h2>\n",
    "\n",
    "<p>El dataset '311-service-requests' contiene datos correspondiendo a llamadas al servicio 311 de la ciudad de Nueva York. 311 es servicio para procesar situaciones no urgentes, por ejemplo: vehiculo abandonado, denuncias por ruido, semaforos que no funcionan, etc.).</p> "
   ]
  },
  {
   "cell_type": "code",
   "execution_count": null,
   "metadata": {},
   "outputs": [],
   "source": [
    "df_nyc_311 = pd.read_csv('311-service-requests.csv', low_memory=False)\n",
    "df_nyc_311[:5]"
   ]
  },
  {
   "cell_type": "code",
   "execution_count": 66,
   "metadata": {},
   "outputs": [
    {
     "data": {
      "text/plain": [
       "BROOKLYN         32890\n",
       "MANHATTAN        24288\n",
       "QUEENS           22281\n",
       "BRONX            19686\n",
       "Unspecified       7107\n",
       "STATEN ISLAND     4817\n",
       "Name: Borough, dtype: int64"
      ]
     },
     "execution_count": 66,
     "metadata": {},
     "output_type": "execute_result"
    }
   ],
   "source": [
    "df_nyc_311['Borough'].value_counts()"
   ]
  },
  {
   "cell_type": "markdown",
   "metadata": {},
   "source": [
    "<b>Preguntas de investigación:</b>\n",
    "<ul>\n",
    "<li>¿Cuáles son los tipos de denuncias (Complaint Type) más frecuentes en Nueva York y por barrios ('Borough')?</li>\n",
    "<li>¿Qué barrio tiene más denuncias por ruido ('Noise')?</li>\n",
    "</ul>"
   ]
  },
  {
   "cell_type": "code",
   "execution_count": null,
   "metadata": {
    "collapsed": true
   },
   "outputs": [],
   "source": [
    "#TODO..."
   ]
  }
 ],
 "metadata": {
  "kernelspec": {
   "display_name": "Python 3",
   "language": "python",
   "name": "python3"
  },
  "language_info": {
   "codemirror_mode": {
    "name": "ipython",
    "version": 3
   },
   "file_extension": ".py",
   "mimetype": "text/x-python",
   "name": "python",
   "nbconvert_exporter": "python",
   "pygments_lexer": "ipython3",
   "version": "3.6.1"
  }
 },
 "nbformat": 4,
 "nbformat_minor": 2
}
