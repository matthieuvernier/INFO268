{
 "cells": [
  {
   "cell_type": "code",
   "execution_count": 14,
   "metadata": {},
   "outputs": [
    {
     "name": "stdout",
     "output_type": "stream",
     "text": [
      "{'acknowledged': True,\n",
      " 'index': 'tp5-championstweet',\n",
      " 'shards_acknowledged': True}\n"
     ]
    }
   ],
   "source": [
    "#CREAR UN INDEX PARA ALMACENAR LOS DATOS\n",
    "from elasticsearch import Elasticsearch\n",
    "from pprint import pprint\n",
    "\n",
    "es = Elasticsearch()\n",
    "\n",
    "if not(es.indices.exists(index=\"tp5-championstweet\")):\n",
    "    res = es.indices.create(index=\"tp5-championstweet\")  \n",
    "    pprint(res)"
   ]
  },
  {
   "cell_type": "code",
   "execution_count": 15,
   "metadata": {},
   "outputs": [
    {
     "name": "stdout",
     "output_type": "stream",
     "text": [
      "354585\n"
     ]
    }
   ],
   "source": [
    "#LISTAR LOS ARCHIVOS DEL DATASET\n",
    "import json\n",
    "import os\n",
    "files = os.listdir(\"split_dataset_1\")\n",
    "pprint(len(files))"
   ]
  },
  {
   "cell_type": "code",
   "execution_count": 17,
   "metadata": {},
   "outputs": [],
   "source": [
    "from elasticsearch import helpers\n",
    "\n",
    "#CARGAR LOS DATOS EN ELASTICSEARCH\n",
    "tweets=[]\n",
    "\n",
    "for filename in files:\n",
    "    with open('split_dataset_1/'+filename) as f:\n",
    "        try:\n",
    "            #pprint(filename+':')\n",
    "            tweet = json.load(f)\n",
    "            timestamp=int(tweet[\"timestamp_ms\"])\n",
    "            #pprint(tweet)\n",
    "            simple_tweet = {\n",
    "                \"timestamp\":timestamp, \\\n",
    "                \"date\":tweet[\"created_at\"], \\\n",
    "               \"text\": tweet['text'], \\\n",
    "               \"username\": tweet['user']['name'], \\\n",
    "               \"location\": tweet['user']['location']}\n",
    "        except KeyError:\n",
    "            error=\"error\"\n",
    "            \n",
    "    tweets.append(simple_tweet)#remove comment\n",
    "    \n",
    "    #CARGAMOS LOS DATOS EN ELASTICSEARCH CON CONSULTAS 'BULK' PARA OPTIMIZAR EL PROCESO\n",
    "    if (len(tweets)>=1000):\n",
    "        i=0\n",
    "        docs_as_string=\"[\"\n",
    "        while i<1000:\n",
    "            if i!=0:\n",
    "                docs_as_string = docs_as_string + ','\n",
    "            docs_as_string = docs_as_string + '\\n' + json.dumps(tweets[i])\n",
    "            i=i+1\n",
    "        docs_as_string=docs_as_string+\"]\"\n",
    "        res = helpers.bulk(es, json.loads(docs_as_string),index=\"tp5-championstweet\", doc_type=\"_doc\")\n",
    "        tweets=[]"
   ]
  },
  {
   "cell_type": "code",
   "execution_count": 74,
   "metadata": {
    "scrolled": true
   },
   "outputs": [
    {
     "name": "stdout",
     "output_type": "stream",
     "text": [
      "Got 354000 Hits:\n",
      "TWEET:oh wow. Just as a human being this is heartbreaking to watch, this was his moment, he deserved it. Sorry Mo. #UCLfinal Nate: Sat May 26 19:17:06 +0000 2018\n",
      "TWEET:Liverpool looks like like they are up for it #UCLfinal Anni: Sat May 26 18:55:45 +0000 2018\n",
      "TWEET:RT @IamNestorDavid: OH POR DIOS SANTOOOOOOO!!!!\n",
      "\n",
      "R E C O N T R A    G O L A Z O!! 😱😱😱😱😱😱😱😱😱😱😱😱😱😱😱😱😱😱😱😱😱😱\n",
      "\n",
      "@GarethBale11 GOOOOOOOOOOOOOLAAAA… Jorge Isaac 🏌🏻‍♂️: Sat May 26 20:09:46 +0000 2018\n",
      "TWEET:RT @ElieHHaddad: Honestly, that was a disgrace from Sergio Ramos. He's ended @MoSalah night and possibly his World Cup with a cynical, horr… Peter green j: Sat May 26 19:33:20 +0000 2018\n",
      "TWEET:RT @EvradB: Take a break Donald, and watch #UCLfinal https://t.co/sykS62ueuN Prince Opportunistic: Sat May 26 19:50:12 +0000 2018\n",
      "TWEET:RT @AnthonyShackels: THAT TRANSITION WAS EVERYTHING BABE @DUALIPA #UCLFinal https://t.co/pGODbbsPG6 Emily: Sat May 26 19:26:39 +0000 2018\n",
      "TWEET:that was scorcher from Bale!!  #UCLfinal \n",
      "#UCLFinal2018 Vikram Sharma: Sat May 26 20:17:25 +0000 2018\n",
      "TWEET:RT @goalkick69: Congrats @realmadrid the winners of champions league 17/18 #UCLfinal Sweet like honeydew 🍯: Sat May 26 20:40:41 +0000 2018\n",
      "TWEET:RT @fums_magazin: Wir haben ja nix gegen Wiederholungen im TV. Aber den Film haben wir jetzt wirklich oft genug gesehen.\n",
      "\n",
      "#UCLfinal #RMALFC… Leo #NeinZuRBmos: Sat May 26 20:36:28 +0000 2018\n",
      "TWEET:Goooooool @realmadrid #APorLa13 #UCLfinal #ForaArnaldoBarros: Sat May 26 20:28:35 +0000 2018\n"
     ]
    }
   ],
   "source": [
    "#CONSULTA BÁSICA A ELASTICSEARCH PARA PROBAR\n",
    "res = es.search(index=\"tp5-championstweet\", body={\"query\": {\"match_all\": {}}})\n",
    "print(\"Got %d Hits:\" % res['hits']['total'])\n",
    "for hit in res['hits']['hits']:\n",
    "    print(\"TWEET:%(text)s %(username)s: %(date)s\" % hit[\"_source\"])"
   ]
  },
  {
   "cell_type": "code",
   "execution_count": 68,
   "metadata": {},
   "outputs": [],
   "source": [
    "#CONSULTA: ¿Cuántos tweets cada minuto?\n",
    "res = es.search(index=\"tp5-championstweet\", body={\"aggs\" : { \"tweets_over_time\" : \\\n",
    "                                                            { \"date_histogram\" : { \"field\" : \\\n",
    "                                                                                  \"timestamp\", \"interval\" : \"1m\" \\\n",
    "                                                                                 }}}})\n",
    "#for data in res['aggregations']['tweets_over_time']['buckets']:\n",
    "#    print(data['doc_count'])"
   ]
  },
  {
   "cell_type": "code",
   "execution_count": 69,
   "metadata": {},
   "outputs": [
    {
     "data": {
      "text/html": [
       "<div>\n",
       "<style>\n",
       "    .dataframe thead tr:only-child th {\n",
       "        text-align: right;\n",
       "    }\n",
       "\n",
       "    .dataframe thead th {\n",
       "        text-align: left;\n",
       "    }\n",
       "\n",
       "    .dataframe tbody tr th {\n",
       "        vertical-align: top;\n",
       "    }\n",
       "</style>\n",
       "<table border=\"1\" class=\"dataframe\">\n",
       "  <thead>\n",
       "    <tr style=\"text-align: right;\">\n",
       "      <th></th>\n",
       "      <th>nb_tweets</th>\n",
       "      <th>timestamp</th>\n",
       "    </tr>\n",
       "  </thead>\n",
       "  <tbody>\n",
       "    <tr>\n",
       "      <th>0</th>\n",
       "      <td>41</td>\n",
       "      <td>1527340680000</td>\n",
       "    </tr>\n",
       "    <tr>\n",
       "      <th>1</th>\n",
       "      <td>0</td>\n",
       "      <td>1527340740000</td>\n",
       "    </tr>\n",
       "    <tr>\n",
       "      <th>2</th>\n",
       "      <td>0</td>\n",
       "      <td>1527340800000</td>\n",
       "    </tr>\n",
       "    <tr>\n",
       "      <th>3</th>\n",
       "      <td>0</td>\n",
       "      <td>1527340860000</td>\n",
       "    </tr>\n",
       "    <tr>\n",
       "      <th>4</th>\n",
       "      <td>0</td>\n",
       "      <td>1527340920000</td>\n",
       "    </tr>\n",
       "    <tr>\n",
       "      <th>5</th>\n",
       "      <td>0</td>\n",
       "      <td>1527340980000</td>\n",
       "    </tr>\n",
       "    <tr>\n",
       "      <th>6</th>\n",
       "      <td>0</td>\n",
       "      <td>1527341040000</td>\n",
       "    </tr>\n",
       "    <tr>\n",
       "      <th>7</th>\n",
       "      <td>0</td>\n",
       "      <td>1527341100000</td>\n",
       "    </tr>\n",
       "    <tr>\n",
       "      <th>8</th>\n",
       "      <td>0</td>\n",
       "      <td>1527341160000</td>\n",
       "    </tr>\n",
       "    <tr>\n",
       "      <th>9</th>\n",
       "      <td>0</td>\n",
       "      <td>1527341220000</td>\n",
       "    </tr>\n",
       "  </tbody>\n",
       "</table>\n",
       "</div>"
      ],
      "text/plain": [
       "   nb_tweets      timestamp\n",
       "0         41  1527340680000\n",
       "1          0  1527340740000\n",
       "2          0  1527340800000\n",
       "3          0  1527340860000\n",
       "4          0  1527340920000\n",
       "5          0  1527340980000\n",
       "6          0  1527341040000\n",
       "7          0  1527341100000\n",
       "8          0  1527341160000\n",
       "9          0  1527341220000"
      ]
     },
     "execution_count": 69,
     "metadata": {},
     "output_type": "execute_result"
    }
   ],
   "source": [
    "import pandas as pd\n",
    "\n",
    "df_tweetsByMinutes = pd.DataFrame(res['aggregations']['tweets_over_time']['buckets'])\n",
    "df_tweetsByMinutes = df_tweetsByMinutes.rename(columns={'key': 'timestamp', 'doc_count': 'nb_tweets'})\n",
    "df_tweetsByMinutes[:10]"
   ]
  },
  {
   "cell_type": "code",
   "execution_count": 70,
   "metadata": {},
   "outputs": [
    {
     "data": {
      "text/html": [
       "<div>\n",
       "<style>\n",
       "    .dataframe thead tr:only-child th {\n",
       "        text-align: right;\n",
       "    }\n",
       "\n",
       "    .dataframe thead th {\n",
       "        text-align: left;\n",
       "    }\n",
       "\n",
       "    .dataframe tbody tr th {\n",
       "        vertical-align: top;\n",
       "    }\n",
       "</style>\n",
       "<table border=\"1\" class=\"dataframe\">\n",
       "  <thead>\n",
       "    <tr style=\"text-align: right;\">\n",
       "      <th></th>\n",
       "      <th>nb_tweets</th>\n",
       "      <th>timestamp</th>\n",
       "    </tr>\n",
       "  </thead>\n",
       "  <tbody>\n",
       "    <tr>\n",
       "      <th>282</th>\n",
       "      <td>0</td>\n",
       "      <td>1527357600000</td>\n",
       "    </tr>\n",
       "    <tr>\n",
       "      <th>283</th>\n",
       "      <td>0</td>\n",
       "      <td>1527357660000</td>\n",
       "    </tr>\n",
       "    <tr>\n",
       "      <th>284</th>\n",
       "      <td>0</td>\n",
       "      <td>1527357720000</td>\n",
       "    </tr>\n",
       "    <tr>\n",
       "      <th>285</th>\n",
       "      <td>0</td>\n",
       "      <td>1527357780000</td>\n",
       "    </tr>\n",
       "    <tr>\n",
       "      <th>286</th>\n",
       "      <td>0</td>\n",
       "      <td>1527357840000</td>\n",
       "    </tr>\n",
       "    <tr>\n",
       "      <th>287</th>\n",
       "      <td>0</td>\n",
       "      <td>1527357900000</td>\n",
       "    </tr>\n",
       "    <tr>\n",
       "      <th>288</th>\n",
       "      <td>0</td>\n",
       "      <td>1527357960000</td>\n",
       "    </tr>\n",
       "    <tr>\n",
       "      <th>289</th>\n",
       "      <td>0</td>\n",
       "      <td>1527358020000</td>\n",
       "    </tr>\n",
       "    <tr>\n",
       "      <th>290</th>\n",
       "      <td>0</td>\n",
       "      <td>1527358080000</td>\n",
       "    </tr>\n",
       "    <tr>\n",
       "      <th>291</th>\n",
       "      <td>0</td>\n",
       "      <td>1527358140000</td>\n",
       "    </tr>\n",
       "  </tbody>\n",
       "</table>\n",
       "</div>"
      ],
      "text/plain": [
       "     nb_tweets      timestamp\n",
       "282          0  1527357600000\n",
       "283          0  1527357660000\n",
       "284          0  1527357720000\n",
       "285          0  1527357780000\n",
       "286          0  1527357840000\n",
       "287          0  1527357900000\n",
       "288          0  1527357960000\n",
       "289          0  1527358020000\n",
       "290          0  1527358080000\n",
       "291          0  1527358140000"
      ]
     },
     "execution_count": 70,
     "metadata": {},
     "output_type": "execute_result"
    }
   ],
   "source": [
    "df_tweetsByMinutes_filtered = df_tweetsByMinutes.drop(df_tweetsByMinutes[df_tweetsByMinutes.timestamp < 1527357600000 ].index)\n",
    "df_tweetsByMinutes_filtered[:10]"
   ]
  },
  {
   "cell_type": "code",
   "execution_count": 72,
   "metadata": {},
   "outputs": [
    {
     "data": {
      "text/html": [
       "<div>\n",
       "<style>\n",
       "    .dataframe thead tr:only-child th {\n",
       "        text-align: right;\n",
       "    }\n",
       "\n",
       "    .dataframe thead th {\n",
       "        text-align: left;\n",
       "    }\n",
       "\n",
       "    .dataframe tbody tr th {\n",
       "        vertical-align: top;\n",
       "    }\n",
       "</style>\n",
       "<table border=\"1\" class=\"dataframe\">\n",
       "  <thead>\n",
       "    <tr style=\"text-align: right;\">\n",
       "      <th></th>\n",
       "      <th>nb_tweets</th>\n",
       "      <th>timestamp</th>\n",
       "    </tr>\n",
       "  </thead>\n",
       "  <tbody>\n",
       "    <tr>\n",
       "      <th>282</th>\n",
       "      <td>0</td>\n",
       "      <td>14:00:00</td>\n",
       "    </tr>\n",
       "    <tr>\n",
       "      <th>283</th>\n",
       "      <td>0</td>\n",
       "      <td>14:01:00</td>\n",
       "    </tr>\n",
       "    <tr>\n",
       "      <th>284</th>\n",
       "      <td>0</td>\n",
       "      <td>14:02:00</td>\n",
       "    </tr>\n",
       "    <tr>\n",
       "      <th>285</th>\n",
       "      <td>0</td>\n",
       "      <td>14:03:00</td>\n",
       "    </tr>\n",
       "    <tr>\n",
       "      <th>286</th>\n",
       "      <td>0</td>\n",
       "      <td>14:04:00</td>\n",
       "    </tr>\n",
       "    <tr>\n",
       "      <th>287</th>\n",
       "      <td>0</td>\n",
       "      <td>14:05:00</td>\n",
       "    </tr>\n",
       "    <tr>\n",
       "      <th>288</th>\n",
       "      <td>0</td>\n",
       "      <td>14:06:00</td>\n",
       "    </tr>\n",
       "    <tr>\n",
       "      <th>289</th>\n",
       "      <td>0</td>\n",
       "      <td>14:07:00</td>\n",
       "    </tr>\n",
       "    <tr>\n",
       "      <th>290</th>\n",
       "      <td>0</td>\n",
       "      <td>14:08:00</td>\n",
       "    </tr>\n",
       "    <tr>\n",
       "      <th>291</th>\n",
       "      <td>0</td>\n",
       "      <td>14:09:00</td>\n",
       "    </tr>\n",
       "  </tbody>\n",
       "</table>\n",
       "</div>"
      ],
      "text/plain": [
       "     nb_tweets timestamp\n",
       "282          0  14:00:00\n",
       "283          0  14:01:00\n",
       "284          0  14:02:00\n",
       "285          0  14:03:00\n",
       "286          0  14:04:00\n",
       "287          0  14:05:00\n",
       "288          0  14:06:00\n",
       "289          0  14:07:00\n",
       "290          0  14:08:00\n",
       "291          0  14:09:00"
      ]
     },
     "execution_count": 72,
     "metadata": {},
     "output_type": "execute_result"
    }
   ],
   "source": [
    "import datetime\n",
    "\n",
    "def timestamp2date(x):\n",
    "    y = datetime.datetime.fromtimestamp(x/1000).strftime('%H:%M:%S')\n",
    "    return y\n",
    "\n",
    "df_tweetsByMinutes_filtered['timestamp']=df_tweetsByMinutes_filtered['timestamp'].apply(timestamp2date)\n",
    "df_tweetsByMinutes_filtered[:10]"
   ]
  },
  {
   "cell_type": "code",
   "execution_count": 73,
   "metadata": {},
   "outputs": [
    {
     "data": {
      "image/png": "[encoded data removed]",
      "text/plain": [
       "<matplotlib.figure.Figure at 0x7f80c0d31ef0>"
      ]
     },
     "metadata": {},
     "output_type": "display_data"
    }
   ],
   "source": [
    "import matplotlib.pyplot as plt\n",
    "%matplotlib inline\n",
    "\n",
    "df_tweetsByMinutes_filtered.plot(kind='bar',figsize=(40,10), fontsize=10, x='timestamp')\n",
    "plt.show()"
   ]
  },
  {
   "cell_type": "code",
   "execution_count": 82,
   "metadata": {},
   "outputs": [
    {
     "name": "stdout",
     "output_type": "stream",
     "text": [
      "Got 16771 Hits:\n",
      "TWEET:Goal goal goal goal goal goal!!!!!!!!!!!!!!!!!!!!!! #RealMadrid #RMALIV #UCLfinal Preveza Epirus: Sat May 26 20:13:28 +0000 2018\n",
      "TWEET:Goal \n",
      "Goal\n",
      "Goal\n",
      "Goal\n",
      "#UCLfinal Olouwadamissi: Sat May 26 19:57:14 +0000 2018\n",
      "TWEET:GOAL GOAL GOAL GOAL GOOOAAAAL MANEEEEE #UCLFinal NooR: Sat May 26 20:01:07 +0000 2018\n",
      "TWEET:Super goal goal goal goal goal https://t.co/FVh1CVOEGA Abouuuuuuuuuuuuu Impala: Sat May 26 20:12:56 +0000 2018\n",
      "TWEET:Goal! Goal!! Goal!!! Sadio Mane #UCLfinal P!: Sat May 26 20:00:31 +0000 2018\n",
      "TWEET:Goal! Goal! Goal! Typical Liverpool goalkeepers #UCLfinal #HalaMadrid Tlholo conquer: Sat May 26 19:56:24 +0000 2018\n",
      "TWEET:Goal Goal Goal!!!!! \n",
      "@KraksTV \n",
      "#UCLFinal https://t.co/H8cDjge8hi Unilag Ajebutter: Sat May 26 19:56:06 +0000 2018\n",
      "TWEET:Yeyyyy😃😃 goal ,goal😃😃😃\n",
      "#UCLfinal A girl with a brain without mind.: Sat May 26 20:25:25 +0000 2018\n",
      "TWEET:#UCLfinal\n",
      "\n",
      "Never felt this alive. Goal goal goal Gagan: Sat May 26 20:01:30 +0000 2018\n",
      "TWEET:Mane goal issa goal #uclfinal A Y O👑: Sat May 26 20:00:59 +0000 2018\n"
     ]
    }
   ],
   "source": [
    "#CONSULTA BÁSICA A ELASTICSEARCH PARA PROBAR\n",
    "res = es.search(index=\"tp5-championstweet\", body={\"query\": {\"term\":{\"text\":\"goal\"}}})\n",
    "print(\"Got %d Hits:\" % res['hits']['total'])\n",
    "for hit in res['hits']['hits']:\n",
    "    print(\"TWEET:%(text)s %(username)s: %(date)s\" % hit[\"_source\"])"
   ]
  },
  {
   "cell_type": "code",
   "execution_count": null,
   "metadata": {
    "collapsed": true
   },
   "outputs": [],
   "source": []
  }
 ],
 "metadata": {
  "kernelspec": {
   "display_name": "Python 3",
   "language": "python",
   "name": "python3"
  },
  "language_info": {
   "codemirror_mode": {
    "name": "ipython",
    "version": 3
   },
   "file_extension": ".py",
   "mimetype": "text/x-python",
   "name": "python",
   "nbconvert_exporter": "python",
   "pygments_lexer": "ipython3",
   "version": "3.6.1"
  }
 },
 "nbformat": 4,
 "nbformat_minor": 2
}
