{
 "cells": [
  {
   "cell_type": "code",
   "execution_count": 13,
   "metadata": {},
   "outputs": [
    {
     "name": "stdout",
     "output_type": "stream",
     "text": [
      "{'acknowledged': True,\n",
      " 'index': 'tp5-championstweet',\n",
      " 'shards_acknowledged': True}\n"
     ]
    }
   ],
   "source": [
    "#CREAR UN INDEX PARA ALMACENAR LOS DATOS\n",
    "from elasticsearch import Elasticsearch\n",
    "from pprint import pprint\n",
    "\n",
    "es = Elasticsearch()\n",
    "\n",
    "if not(es.indices.exists(index=\"tp5-championstweet\")):\n",
    "    res = es.indices.create(index=\"tp5-championstweet\")  \n",
    "    pprint(res)"
   ]
  },
  {
   "cell_type": "code",
   "execution_count": 51,
   "metadata": {},
   "outputs": [
    {
     "name": "stdout",
     "output_type": "stream",
     "text": [
      "354585\n"
     ]
    }
   ],
   "source": [
    "#LISTAR LOS ARCHIVOS DEL DATASET\n",
    "import json\n",
    "import os\n",
    "files = os.listdir(\"split_dataset_1\")\n",
    "pprint(len(files))"
   ]
  },
  {
   "cell_type": "code",
   "execution_count": null,
   "metadata": {},
   "outputs": [],
   "source": [
    "from elasticsearch import helpers\n",
    "\n",
    "#CARGAR LOS DATOS EN ELASTICSEARCH\n",
    "tweets=[]\n",
    "\n",
    "for filename in files:\n",
    "    with open('split_dataset_1/'+filename) as f:\n",
    "        try:\n",
    "            #pprint(filename+':')\n",
    "            tweet = json.load(f)\n",
    "            #pprint(tweet)\n",
    "            simple_tweet = {\"date\":tweet[\"created_at\"], \\\n",
    "               \"text\": tweet['text'], \\\n",
    "               \"username\": tweet['user']['name'], \\\n",
    "               \"location\": tweet['user']['location']}\n",
    "        except KeyError:\n",
    "            error=\"error\"\n",
    "            \n",
    "    tweets.append(simple_tweet)\n",
    "    \n",
    "    #CARGAMOS LOS DATOS EN ELASTICSEARCH CON CONSULTAS 'BULK' PARA OPTIMIZAR EL PROCESO\n",
    "    if (len(tweets)>=1000):\n",
    "        i=0\n",
    "        docs_as_string=\"[\"\n",
    "        while i<1000:\n",
    "            if i!=0:\n",
    "                docs_as_string = docs_as_string + ','\n",
    "            docs_as_string = docs_as_string + '\\n' + json.dumps(tweets[i])\n",
    "            i=i+1\n",
    "        docs_as_string=docs_as_string+\"]\"\n",
    "        res = helpers.bulk(es, json.loads(docs_as_string),index=\"tp5-championstweet\", doc_type=\"_doc\")\n",
    "        tweets=[]"
   ]
  },
  {
   "cell_type": "code",
   "execution_count": 50,
   "metadata": {},
   "outputs": [
    {
     "name": "stdout",
     "output_type": "stream",
     "text": [
      "Got 32000 Hits:\n",
      "TWEET:RT @ChampionsLeague: A sad way for Salah's season to finish 😢\n",
      "\n",
      "#UCLfinal https://t.co/6v2Y0MKNBe Muhammad Hambali: Sat May 26 19:42:34 +0000 2018\n",
      "TWEET:RT @ActuFoot_: 😰\n",
      "\n",
      "#UCLFinal #InnovateYourGame https://t.co/jbPDg05XSW Johan: Sat May 26 19:15:39 +0000 2018\n",
      "TWEET:RT @SuperSportTV: INCREDIBLE!\n",
      "Shortly after Karius' blunder, Mane bounces in the box to put Liverpool back level!\n",
      "1-1, 58 mins\n",
      "Watch the #U… Benson Jerera: Sat May 26 20:14:03 +0000 2018\n",
      "TWEET:RT @btsportfootball: This is the best goal EVER in a final. \n",
      "\n",
      "Period. \n",
      "\n",
      "Insane from Gareth Bale.\n",
      "\n",
      "#UCLfinal https://t.co/RyAIR94p2W Ben: Sat May 26 20:17:57 +0000 2018\n",
      "TWEET:RT @UEFAcom_fr: #UCLFinal Les fans du Real montent en température, ils vont mettre une ambiance de 🔥🔥🔥\n",
      "#RMALIV #FinaleLDC\n",
      "#UCL #LdC https:/… Cédric Le Clech: Sat May 26 19:05:21 +0000 2018\n",
      "TWEET:RT @Football__Tweet: WHAT A SAVE! Keylor Navas gets down brilliantly to stop Trent Alexander-Arnold's effort. What a hit. #RMCF #LFC #UCLFi… Sam: Sat May 26 19:10:13 +0000 2018\n",
      "TWEET:God turns stories around https://t.co/G4QQRhIeq3 Chanks: Sat May 26 19:46:06 +0000 2018\n",
      "TWEET:RT @ChampionsLeague: 🔊 GOOOAAAL!\n",
      "⚪️ Real Madrid 1-0 Liverpool 🔴\n",
      "⚽️ Benzema 51\n",
      "\n",
      "#UCLfinal https://t.co/xctPBTt794 Chloe: Sat May 26 19:59:58 +0000 2018\n",
      "TWEET:coitada da dua https://t.co/rhrgO3lWiY izah: Sat May 26 18:50:25 +0000 2018\n",
      "TWEET:RT @ActuFoot_: Liverpool pousse dans ce début de match et ne quitte pas le camp madrilène.\n",
      "\n",
      "#UCLFinal #InnovateYourGame J - 14 🤪: Sat May 26 18:53:56 +0000 2018\n"
     ]
    }
   ],
   "source": [
    "#CONSULTA BÁSICA A ELASTICSEARCH PARA PROBAR\n",
    "res = es.search(index=\"tp5-championstweet\", body={\"query\": {\"match_all\": {}}})\n",
    "print(\"Got %d Hits:\" % res['hits']['total'])\n",
    "for hit in res['hits']['hits']:\n",
    "    print(\"TWEET:%(text)s %(username)s: %(date)s\" % hit[\"_source\"])"
   ]
  },
  {
   "cell_type": "code",
   "execution_count": null,
   "metadata": {
    "collapsed": true
   },
   "outputs": [],
   "source": []
  }
 ],
 "metadata": {
  "kernelspec": {
   "display_name": "Python 3",
   "language": "python",
   "name": "python3"
  },
  "language_info": {
   "codemirror_mode": {
    "name": "ipython",
    "version": 3
   },
   "file_extension": ".py",
   "mimetype": "text/x-python",
   "name": "python",
   "nbconvert_exporter": "python",
   "pygments_lexer": "ipython3",
   "version": "3.6.1"
  }
 },
 "nbformat": 4,
 "nbformat_minor": 2
}
